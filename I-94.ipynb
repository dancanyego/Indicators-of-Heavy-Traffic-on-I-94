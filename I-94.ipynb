{
 "cells": [
  {
   "cell_type": "markdown",
   "id": "fe9113bb",
   "metadata": {},
   "source": [
    "# Indicators of Heavy Traffic on I-94\n",
    "\n",
    "In this project, we're going to analyze a dataset about the westbound traffic on the I-94 Interstate highway.\n",
    "\n",
    "The goal of our analysis is to determine a few indicators of heavy traffic on I-94. These indicators can be weather type, time of the day, time of the week, etc."
   ]
  },
  {
   "cell_type": "code",
   "execution_count": 1,
   "id": "cbfaa929",
   "metadata": {},
   "outputs": [
    {
     "name": "stdout",
     "output_type": "stream",
     "text": [
      "<class 'pandas.core.frame.DataFrame'>\n",
      "RangeIndex: 5 entries, 0 to 4\n",
      "Data columns (total 9 columns):\n",
      " #   Column               Non-Null Count  Dtype  \n",
      "---  ------               --------------  -----  \n",
      " 0   holiday              5 non-null      object \n",
      " 1   temp                 5 non-null      float64\n",
      " 2   rain_1h              5 non-null      float64\n",
      " 3   snow_1h              5 non-null      float64\n",
      " 4   clouds_all           5 non-null      int64  \n",
      " 5   weather_main         5 non-null      object \n",
      " 6   weather_description  5 non-null      object \n",
      " 7   date_time            5 non-null      object \n",
      " 8   traffic_volume       5 non-null      int64  \n",
      "dtypes: float64(3), int64(2), object(4)\n",
      "memory usage: 488.0+ bytes\n"
     ]
    }
   ],
   "source": [
    "import pandas as pd\n",
    "import numpy as np\n",
    "import seaborn as sns\n",
    "import matplotlib.pyplot as plt\n",
    "\n",
    "%matplotlib inline\n",
    "\n",
    "i_94 = pd.read_csv('Metro_Interstate_Traffic_Volume.csv')\n",
    "i_94.head().info()"
   ]
  },
  {
   "cell_type": "code",
   "execution_count": null,
   "id": "69c5df83",
   "metadata": {},
   "outputs": [],
   "source": []
  }
 ],
 "metadata": {
  "kernelspec": {
   "display_name": "Python 3 (ipykernel)",
   "language": "python",
   "name": "python3"
  },
  "language_info": {
   "codemirror_mode": {
    "name": "ipython",
    "version": 3
   },
   "file_extension": ".py",
   "mimetype": "text/x-python",
   "name": "python",
   "nbconvert_exporter": "python",
   "pygments_lexer": "ipython3",
   "version": "3.7.16"
  }
 },
 "nbformat": 4,
 "nbformat_minor": 5
}
