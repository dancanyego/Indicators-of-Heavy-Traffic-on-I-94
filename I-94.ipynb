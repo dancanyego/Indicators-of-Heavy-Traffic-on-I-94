{
 "cells": [
  {
   "cell_type": "markdown",
   "id": "fe9113bb",
   "metadata": {},
   "source": [
    "# Indicators of Heavy Traffic on I-94\n",
    "\n",
    "In this project, we're going to analyze a dataset about the westbound traffic on the I-94 Interstate highway.\n",
    "\n",
    "The goal of our analysis is to determine a few indicators of heavy traffic on I-94. These indicators can be weather type, time of the day, time of the week, etc."
   ]
  },
  {
   "cell_type": "code",
   "execution_count": null,
   "id": "cbfaa929",
   "metadata": {},
   "outputs": [],
   "source": [
    "import pandas as pd\n",
    "import numpy as np\n",
    "import seaborn as sns\n",
    "import matplotlib.pyplot as plt\n",
    "\n",
    "%matplotlib inline\n",
    "\n",
    "i_94 = pd.read_csv('Metro_Interstate_Traffic_Volume.csv')\n",
    "i_94.head().info()"
   ]
  },
  {
   "cell_type": "markdown",
   "id": "496bdbad",
   "metadata": {},
   "source": [
    "The dataset has 48,204 rows and 9 columns, and there are no null values. Each row describes traffic and weather data for a specific hour — we have data from 2012-10-02 09:00:00 until 2018-09-30 23:00:00.\n",
    "\n",
    "A station located approximately midway between Minneapolis and Saint Paul records the traffic data (see the dataset documentation). For this station, the direction of the route is westbound (i.e., cars moving from east to west). This means that the results of our analysis will be about the westbound traffic in the proximity of the station. In other words, we should avoid generalizing our results for the entire I-94 highway."
   ]
  },
  {
   "cell_type": "code",
   "execution_count": null,
   "id": "69c5df83",
   "metadata": {},
   "outputs": [],
   "source": [
    "i_94.head()"
   ]
  },
  {
   "cell_type": "code",
   "execution_count": null,
   "id": "8b37feae",
   "metadata": {},
   "outputs": [],
   "source": [
    "i_94.tail()"
   ]
  },
  {
   "cell_type": "markdown",
   "id": "5fe3c690",
   "metadata": {},
   "source": [
    "# Analyzing Traffic Volume\n",
    "We're going to start our analysis by examining the distribution of the traffic_volume column."
   ]
  },
  {
   "cell_type": "code",
   "execution_count": null,
   "id": "5fefc3b4",
   "metadata": {},
   "outputs": [],
   "source": [
    "i_94['traffic_volume'].describe()"
   ]
  },
  {
   "cell_type": "code",
   "execution_count": null,
   "id": "a0cce801",
   "metadata": {},
   "outputs": [],
   "source": [
    "i_94['traffic_volume'].plot.hist()\n",
    "plt.show()"
   ]
  },
  {
   "cell_type": "markdown",
   "id": "72da21b0",
   "metadata": {},
   "source": [
    "Between 2012-10-02 09:00:00 and 2018-09-30 23:00:00, the hourly traffic volume varied from 0 to 7,280 cars, with an average of 3,260 cars.\n",
    "\n",
    "About 25% of the time, there were only 1,193 cars or fewer passing the station each hour — this probably occurs during the night, or when a road is under construction. However, about 75% of the time, the traffic volume was four times as much (4,933 cars or more).\n",
    "\n",
    "This observation gives our analysis an interesting direction: comparing daytime data with nighttime data."
   ]
  },
  {
   "cell_type": "markdown",
   "id": "f0ca2675",
   "metadata": {},
   "source": [
    "# Traffic Volume: Day vs. Night\n",
    "We'll start by dividing the dataset into two parts:\n",
    "\n",
    "- Daytime data: hours from 7 AM to 7 PM (12 hours)\n",
    "- Nighttime data: hours from 7 PM to 7 AM (12 hours)\n",
    "\n",
    "While this is not a perfect criterion for distinguishing between nighttime and daytime, it's a good starting point."
   ]
  },
  {
   "cell_type": "code",
   "execution_count": null,
   "id": "14c6e327",
   "metadata": {},
   "outputs": [],
   "source": [
    "i_94['date_time'] = pd.to_datetime(i_94['date_time'])\n",
    "\n",
    "day = i_94.copy()[(i_94['date_time'].dt.hour >= 7) & (i_94['date_time'].dt.hour < 19)]\n",
    "print(day.shape)\n",
    "\n",
    "night = i_94.copy()[(i_94['date_time'].dt.hour >= 19) | (i_94['date_time'].dt.hour < 7)]\n",
    "print(night.shape)"
   ]
  },
  {
   "cell_type": "code",
   "execution_count": null,
   "id": "d242b073",
   "metadata": {},
   "outputs": [],
   "source": []
  }
 ],
 "metadata": {
  "kernelspec": {
   "display_name": "Python 3 (ipykernel)",
   "language": "python",
   "name": "python3"
  },
  "language_info": {
   "codemirror_mode": {
    "name": "ipython",
    "version": 3
   },
   "file_extension": ".py",
   "mimetype": "text/x-python",
   "name": "python",
   "nbconvert_exporter": "python",
   "pygments_lexer": "ipython3",
   "version": "3.7.16"
  }
 },
 "nbformat": 4,
 "nbformat_minor": 5
}
